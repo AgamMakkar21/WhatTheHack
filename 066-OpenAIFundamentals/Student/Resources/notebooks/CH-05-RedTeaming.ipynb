{
 "cells": [
  {
   "cell_type": "markdown",
   "id": "25b42432",
   "metadata": {},
   "source": [
    "# Challenge 05 - Red Teaming"
   ]
  },
  {
   "cell_type": "markdown",
   "id": "21aac194",
   "metadata": {},
   "source": [
    "## 1. Overview "
   ]
  },
  {
   "cell_type": "markdown",
   "id": "b0ad5c2b",
   "metadata": {},
   "source": [
    "## 2. Setting Up Environment "
   ]
  },
  {
   "cell_type": "code",
   "execution_count": null,
   "id": "c0931b41",
   "metadata": {},
   "outputs": [],
   "source": [
    "# Azure imports\n",
    "from azure.identity import DefaultAzureCredential\n",
    "from azure.ai.evaluation.red_team import RedTeam, RiskCategory, AttackStrategy\n",
    "\n",
    "# OpenAI imports\n",
    "from openai import AzureOpenAI\n",
    "import asyncio\n",
    "import os\n",
    "from dotenv import load_dotenv\n",
    "# Load environment variables from .env file\n",
    "load_dotenv()"
   ]
  },
  {
   "cell_type": "markdown",
   "id": "c3bc0ad6",
   "metadata": {},
   "source": [
    "## 2. Creating Red Teaming Agent"
   ]
  },
  {
   "cell_type": "code",
   "execution_count": null,
   "id": "a80867a8",
   "metadata": {},
   "outputs": [],
   "source": [
    "## Using Azure AI Foundry project from environment variable\n",
    "azure_ai_project = os.getenv(\"AZURE_AI_PROJECT\")\n",
    "\n",
    "# Instantiate your AI Red Teaming Agent\n",
    "red_team_agent = RedTeam(\n",
    "    azure_ai_project=azure_ai_project, # required\n",
    "    credential=DefaultAzureCredential() # required\n",
    ")"
   ]
  },
  {
   "cell_type": "markdown",
   "id": "b2845cc5",
   "metadata": {},
   "source": [
    "## 3. OpenAI Client and callback"
   ]
  },
  {
   "cell_type": "code",
   "execution_count": null,
   "id": "94bcb00a",
   "metadata": {},
   "outputs": [],
   "source": [
    "# Create Azure OpenAI client using managed identity (recommended approach)\n",
    "def get_azure_ad_token():\n",
    "    \"\"\"Function to get Azure AD token for OpenAI authentication\"\"\"\n",
    "    credential = DefaultAzureCredential()\n",
    "    token = credential.get_token(\"https://cognitiveservices.azure.com/.default\")\n",
    "    return token.token\n",
    "\n",
    "azure_openai_client = AzureOpenAI(\n",
    "    azure_endpoint=os.getenv(\"OPENAI_API_BASE\"),\n",
    "    api_version=os.getenv(\"OPENAI_API_VERSION\"),\n",
    "    azure_ad_token_provider=get_azure_ad_token\n",
    ")\n",
    "\n",
    "# Target callback function that uses your Azure OpenAI deployment\n",
    "def azure_openai_callback(query: str) -> str:\n",
    "    \"\"\"\n",
    "    This function represents your AI system that will be red-teamed.\n",
    "    It sends the query to your Azure OpenAI deployment and returns the response.\n",
    "    \"\"\"\n",
    "    try:\n",
    "        response = azure_openai_client.chat.completions.create(\n",
    "            model=os.getenv(\"CHAT_MODEL_NAME2\"),  # This should match your deployment name\n",
    "            messages=[\n",
    "                {\"role\": \"system\", \"content\": \"You are a helpful AI assistant.\"},\n",
    "                {\"role\": \"user\", \"content\": query}\n",
    "            ],\n",
    "            max_tokens=500,\n",
    "            temperature=0.7\n",
    "        )\n",
    "        return response.choices[0].message.content\n",
    "    except Exception as e:\n",
    "        return f\"Error: {str(e)}\""
   ]
  },
  {
   "cell_type": "markdown",
   "id": "970404f8",
   "metadata": {},
   "source": [
    "## 4. Running the Red Team Agent"
   ]
  },
  {
   "cell_type": "code",
   "execution_count": null,
   "id": "8a6d7ff4",
   "metadata": {},
   "outputs": [],
   "source": [
    "async def main():\n",
    "    # The scan method expects a target function, not a configuration object\n",
    "    red_team_result = await red_team_agent.scan(\n",
    "        target=azure_openai_callback,\n",
    "        risk_categories=[ # optional, defaults to all four risk categories\n",
    "            RiskCategory.Violence,\n",
    "            RiskCategory.HateUnfairness,\n",
    "            RiskCategory.Sexual,\n",
    "            RiskCategory.SelfHarm\n",
    "        ],\n",
    "        num_objectives=5  # Number of conversation turns per attack\n",
    "    )\n",
    "    print(\"Red team scan completed!\")\n",
    "    print(red_team_result)\n",
    "\n",
    "if __name__ == \"__main__\":\n",
    "    asyncio.run(main())"
   ]
  }
 ],
 "metadata": {
  "language_info": {
   "name": "python"
  }
 },
 "nbformat": 4,
 "nbformat_minor": 5
}
