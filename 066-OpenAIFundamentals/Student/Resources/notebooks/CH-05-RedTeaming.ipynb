{
 "cells": [
  {
   "cell_type": "markdown",
   "id": "25b42432",
   "metadata": {},
   "source": [
    "# Challenge 05 - Red Teaming"
   ]
  },
  {
   "cell_type": "markdown",
   "id": "21aac194",
   "metadata": {},
   "source": [
    "## 1. Overview "
   ]
  },
  {
   "cell_type": "markdown",
   "id": "b0ad5c2b",
   "metadata": {},
   "source": [
    "## 2. Setting Up Environment "
   ]
  },
  {
   "cell_type": "code",
   "execution_count": 7,
   "id": "c0931b41",
   "metadata": {},
   "outputs": [
    {
     "data": {
      "text/plain": [
       "True"
      ]
     },
     "execution_count": 7,
     "metadata": {},
     "output_type": "execute_result"
    }
   ],
   "source": [
    "# Azure imports\n",
    "from azure.identity import DefaultAzureCredential\n",
    "from azure.ai.evaluation.red_team import RedTeam, RiskCategory, AttackStrategy\n",
    "\n",
    "# OpenAI imports\n",
    "from openai import AzureOpenAI\n",
    "import asyncio\n",
    "import os\n",
    "from dotenv import load_dotenv\n",
    "# Load environment variables from .env file\n",
    "load_dotenv()"
   ]
  },
  {
   "cell_type": "markdown",
   "id": "c3bc0ad6",
   "metadata": {},
   "source": [
    "## 2. Creating Red Teaming Agent"
   ]
  },
  {
   "cell_type": "code",
   "execution_count": 8,
   "id": "a80867a8",
   "metadata": {},
   "outputs": [],
   "source": [
    "## Using Azure AI Foundry project from environment variable\n",
    "azure_ai_project = os.getenv(\"AZURE_AI_PROJECT\")\n",
    "\n",
    "# Instantiate your AI Red Teaming Agent\n",
    "red_team_agent = RedTeam(\n",
    "    azure_ai_project=azure_ai_project, # required\n",
    "    credential=DefaultAzureCredential() # required\n",
    ")"
   ]
  },
  {
   "cell_type": "markdown",
   "id": "b2845cc5",
   "metadata": {},
   "source": [
    "## 3. OpenAI Client and callback"
   ]
  },
  {
   "cell_type": "code",
   "execution_count": 9,
   "id": "94bcb00a",
   "metadata": {},
   "outputs": [],
   "source": [
    "# Create Azure OpenAI client using managed identity (recommended approach)\n",
    "def get_azure_ad_token():\n",
    "    \"\"\"Function to get Azure AD token for OpenAI authentication\"\"\"\n",
    "    credential = DefaultAzureCredential()\n",
    "    token = credential.get_token(\"https://cognitiveservices.azure.com/.default\")\n",
    "    return token.token\n",
    "\n",
    "azure_openai_client = AzureOpenAI(\n",
    "    azure_endpoint=os.getenv(\"OPENAI_API_BASE\"),\n",
    "    api_version=os.getenv(\"OPENAI_API_VERSION\"),\n",
    "    azure_ad_token_provider=get_azure_ad_token\n",
    ")\n",
    "\n",
    "# Target callback function that uses your Azure OpenAI deployment\n",
    "def azure_openai_callback(query: str) -> str:\n",
    "    \"\"\"\n",
    "    This function represents your AI system that will be red-teamed.\n",
    "    It sends the query to your Azure OpenAI deployment and returns the response.\n",
    "    \"\"\"\n",
    "    try:\n",
    "        response = azure_openai_client.chat.completions.create(\n",
    "            model=os.getenv(\"CHAT_MODEL_NAME2\"),  # This should match your deployment name\n",
    "            messages=[\n",
    "                {\"role\": \"system\", \"content\": \"You are a helpful AI assistant.\"},\n",
    "                {\"role\": \"user\", \"content\": query}\n",
    "            ],\n",
    "            max_tokens=500,\n",
    "            temperature=0.7\n",
    "        )\n",
    "        return response.choices[0].message.content\n",
    "    except Exception as e:\n",
    "        return f\"Error: {str(e)}\""
   ]
  },
  {
   "cell_type": "markdown",
   "id": "970404f8",
   "metadata": {},
   "source": [
    "## 4. Running the Red Team Agent"
   ]
  },
  {
   "cell_type": "code",
   "execution_count": null,
   "id": "8a6d7ff4",
   "metadata": {},
   "outputs": [
    {
     "name": "stderr",
     "output_type": "stream",
     "text": [
      "Task exception was never retrieved\n",
      "future: <Task finished name='Task-5' coro=<main() done, defined at /tmp/ipykernel_4902/2305545484.py:1> exception=ClientAuthenticationError(\"DefaultAzureCredential failed to retrieve a token from the included credentials.\\nAttempted credentials:\\n\\tEnvironmentCredential: EnvironmentCredential authentication unavailable. Environment variables are not fully configured.\\nVisit https://aka.ms/azsdk/python/identity/environmentcredential/troubleshoot to troubleshoot this issue.\\n\\tManagedIdentityCredential: ManagedIdentityCredential authentication unavailable, no response from the IMDS endpoint. invalid_request\\n\\tSharedTokenCacheCredential: SharedTokenCacheCredential authentication unavailable. No accounts were found in the cache.\\n\\tAzureCliCredential: Please run 'az login' to set up an account\\n\\tAzurePowerShellCredential: PowerShell is not installed\\n\\tAzureDeveloperCliCredential: Azure Developer CLI could not be found. Please visit https://aka.ms/azure-dev for installation instructions and then,once installed, authenticate to your Azure account using 'azd auth login'.\\nTo mitigate this issue, please refer to the troubleshooting guidelines here at https://aka.ms/azsdk/python/identity/defaultazurecredential/troubleshoot.\")>\n",
      "Traceback (most recent call last):\n",
      "  File \"/tmp/ipykernel_4902/2305545484.py\", line 3, in main\n",
      "    red_team_result = await red_team_agent.scan(\n",
      "                      ^^^^^^^^^^^^^^^^^^^^^^^^^^\n",
      "  File \"/home/vscode/.local/lib/python3.11/site-packages/azure/ai/evaluation/red_team/_red_team.py\", line 3232, in scan\n",
      "    eval_run = self._start_redteam_mlflow_run(self.azure_ai_project, scan_name)\n",
      "               ^^^^^^^^^^^^^^^^^^^^^^^^^^^^^^^^^^^^^^^^^^^^^^^^^^^^^^^^^^^^^^^^\n",
      "  File \"/home/vscode/.local/lib/python3.11/site-packages/azure/ai/evaluation/red_team/_red_team.py\", line 395, in _start_redteam_mlflow_run\n",
      "    response = self.generated_rai_client._evaluation_onedp_client.start_red_team_run(\n",
      "               ^^^^^^^^^^^^^^^^^^^^^^^^^^^^^^^^^^^^^^^^^^^^^^^^^^^^^^^^^^^^^^^^^^^^^^\n",
      "  File \"/home/vscode/.local/lib/python3.11/site-packages/azure/ai/evaluation/_common/evaluation_onedp_client.py\", line 148, in start_red_team_run\n",
      "    upload_run_response = self.rest_client.red_teams.upload_run(redteam=red_team, **kwargs)\n",
      "                          ^^^^^^^^^^^^^^^^^^^^^^^^^^^^^^^^^^^^^^^^^^^^^^^^^^^^^^^^^^^^^^^^^\n",
      "  File \"/home/vscode/.local/lib/python3.11/site-packages/azure/core/tracing/decorator.py\", line 119, in wrapper_use_tracer\n",
      "    return func(*args, **kwargs)\n",
      "           ^^^^^^^^^^^^^^^^^^^^^\n",
      "  File \"/home/vscode/.local/lib/python3.11/site-packages/azure/ai/evaluation/_common/onedp/_validation.py\", line 46, in wrapper\n",
      "    return func(*args, **kwargs)\n",
      "           ^^^^^^^^^^^^^^^^^^^^^\n",
      "  File \"/home/vscode/.local/lib/python3.11/site-packages/azure/ai/evaluation/_common/onedp/operations/_operations.py\", line 4544, in upload_run\n",
      "    pipeline_response: PipelineResponse = self._client._pipeline.run(  # pylint: disable=protected-access\n",
      "                                          ^^^^^^^^^^^^^^^^^^^^^^^^^^^^^^^^^^^^^^^^^^^^^^^^^^^^^^^^^^^^^^^\n",
      "  File \"/home/vscode/.local/lib/python3.11/site-packages/azure/core/pipeline/_base.py\", line 242, in run\n",
      "    return first_node.send(pipeline_request)\n",
      "           ^^^^^^^^^^^^^^^^^^^^^^^^^^^^^^^^^\n",
      "  File \"/home/vscode/.local/lib/python3.11/site-packages/azure/core/pipeline/_base.py\", line 98, in send\n",
      "    response = self.next.send(request)\n",
      "               ^^^^^^^^^^^^^^^^^^^^^^^\n",
      "  File \"/home/vscode/.local/lib/python3.11/site-packages/azure/core/pipeline/_base.py\", line 98, in send\n",
      "    response = self.next.send(request)\n",
      "               ^^^^^^^^^^^^^^^^^^^^^^^\n",
      "  File \"/home/vscode/.local/lib/python3.11/site-packages/azure/core/pipeline/_base.py\", line 98, in send\n",
      "    response = self.next.send(request)\n",
      "               ^^^^^^^^^^^^^^^^^^^^^^^\n",
      "  [Previous line repeated 2 more times]\n",
      "  File \"/home/vscode/.local/lib/python3.11/site-packages/azure/core/pipeline/policies/_redirect.py\", line 205, in send\n",
      "    response = self.next.send(request)\n",
      "               ^^^^^^^^^^^^^^^^^^^^^^^\n",
      "  File \"/home/vscode/.local/lib/python3.11/site-packages/azure/core/pipeline/policies/_retry.py\", line 545, in send\n",
      "    response = self.next.send(request)\n",
      "               ^^^^^^^^^^^^^^^^^^^^^^^\n",
      "  File \"/home/vscode/.local/lib/python3.11/site-packages/azure/core/pipeline/policies/_authentication.py\", line 157, in send\n",
      "    self.on_request(request)\n",
      "  File \"/home/vscode/.local/lib/python3.11/site-packages/azure/core/pipeline/policies/_authentication.py\", line 132, in on_request\n",
      "    self._request_token(*self._scopes)\n",
      "  File \"/home/vscode/.local/lib/python3.11/site-packages/azure/core/pipeline/policies/_authentication.py\", line 108, in _request_token\n",
      "    self._token = self._get_token(*scopes, **kwargs)\n",
      "                  ^^^^^^^^^^^^^^^^^^^^^^^^^^^^^^^^^^\n",
      "  File \"/home/vscode/.local/lib/python3.11/site-packages/azure/core/pipeline/policies/_authentication.py\", line 98, in _get_token\n",
      "    return cast(SupportsTokenInfo, self._credential).get_token_info(*scopes, options=options)\n",
      "           ^^^^^^^^^^^^^^^^^^^^^^^^^^^^^^^^^^^^^^^^^^^^^^^^^^^^^^^^^^^^^^^^^^^^^^^^^^^^^^^^^^\n",
      "  File \"/home/vscode/.local/lib/python3.11/site-packages/azure/identity/_credentials/default.py\", line 277, in get_token_info\n",
      "    token_info = cast(SupportsTokenInfo, super()).get_token_info(*scopes, options=options)\n",
      "                 ^^^^^^^^^^^^^^^^^^^^^^^^^^^^^^^^^^^^^^^^^^^^^^^^^^^^^^^^^^^^^^^^^^^^^^^^^\n",
      "  File \"/home/vscode/.local/lib/python3.11/site-packages/azure/identity/_credentials/chained.py\", line 219, in get_token_info\n",
      "    raise ClientAuthenticationError(message=message)\n",
      "azure.core.exceptions.ClientAuthenticationError: DefaultAzureCredential failed to retrieve a token from the included credentials.\n",
      "Attempted credentials:\n",
      "\tEnvironmentCredential: EnvironmentCredential authentication unavailable. Environment variables are not fully configured.\n",
      "Visit https://aka.ms/azsdk/python/identity/environmentcredential/troubleshoot to troubleshoot this issue.\n",
      "\tManagedIdentityCredential: ManagedIdentityCredential authentication unavailable, no response from the IMDS endpoint. invalid_request\n",
      "\tSharedTokenCacheCredential: SharedTokenCacheCredential authentication unavailable. No accounts were found in the cache.\n",
      "\tAzureCliCredential: Please run 'az login' to set up an account\n",
      "\tAzurePowerShellCredential: PowerShell is not installed\n",
      "\tAzureDeveloperCliCredential: Azure Developer CLI could not be found. Please visit https://aka.ms/azure-dev for installation instructions and then,once installed, authenticate to your Azure account using 'azd auth login'.\n",
      "To mitigate this issue, please refer to the troubleshooting guidelines here at https://aka.ms/azsdk/python/identity/defaultazurecredential/troubleshoot.\n"
     ]
    },
    {
     "name": "stdout",
     "output_type": "stream",
     "text": [
      "🚀 STARTING RED TEAM SCAN: None\n",
      "📂 Output directory: ./.scan_20250801_185240\n",
      "📊 Risk categories: ['hate_unfairness', 'sexual', 'violence', 'self_harm']\n",
      "🔗 Track your red team scan in AI Foundry: https://ai.azure.com/resource/build/redteaming/3bf1379d-e32e-42c7-afb8-b6062c1adc68?wsid=/subscriptions/27b8731d-0fd3-4f0a-9ebd-6fb73190cd8d/resourceGroups/red-teaming-test/providers/Microsoft.CognitiveServices/accounts/red-teaming-test-resource/projects/red-teaming-test&tid=16b3c013-d300-468d-ac64-7eda0820b6d3\n",
      "📋 Planning 4 total tasks\n"
     ]
    },
    {
     "name": "stderr",
     "output_type": "stream",
     "text": [
      "Scanning:   0%|                  | 0/4 [00:00<?, ?scan/s, current=fetching baseline/hate_unfairness]"
     ]
    },
    {
     "name": "stdout",
     "output_type": "stream",
     "text": [
      "📚 Using attack objectives from Azure RAI service\n"
     ]
    },
    {
     "name": "stderr",
     "output_type": "stream",
     "text": [
      "Scanning:   0%|                           | 0/4 [00:00<?, ?scan/s, current=fetching baseline/sexual]"
     ]
    },
    {
     "name": "stdout",
     "output_type": "stream",
     "text": [
      "📝 Fetched baseline objectives for hate_unfairness: 10 objectives\n"
     ]
    },
    {
     "name": "stderr",
     "output_type": "stream",
     "text": [
      "Scanning:   0%|                        | 0/4 [00:01<?, ?scan/s, current=fetching baseline/self_harm]"
     ]
    },
    {
     "name": "stdout",
     "output_type": "stream",
     "text": [
      "📝 Fetched baseline objectives for sexual: 10 objectives\n",
      "📝 Fetched baseline objectives for violence: 10 objectives\n"
     ]
    },
    {
     "name": "stderr",
     "output_type": "stream",
     "text": [
      "Scanning:   0%|                                          | 0/4 [00:01<?, ?scan/s, current=batch 1/1]"
     ]
    },
    {
     "name": "stdout",
     "output_type": "stream",
     "text": [
      "📝 Fetched baseline objectives for self_harm: 10 objectives\n",
      "⚙️ Processing 4 tasks in parallel (max 5 at a time)\n",
      "▶️ Starting task: baseline strategy for hate_unfairness risk category\n",
      "▶️ Starting task: baseline strategy for sexual risk category\n",
      "▶️ Starting task: baseline strategy for violence risk category\n",
      "▶️ Starting task: baseline strategy for self_harm risk category\n"
     ]
    },
    {
     "name": "stderr",
     "output_type": "stream",
     "text": [
      "Scanning:   0%|                                          | 0/4 [00:42<?, ?scan/s, current=batch 1/1]"
     ]
    },
    {
     "name": "stdout",
     "output_type": "stream",
     "text": [
      "Strategy baseline, Risk hate_unfairness: Processed batch 1/4\n",
      "Strategy baseline, Risk sexual: Processed batch 1/4\n",
      "Strategy baseline, Risk violence: Processed batch 1/4\n",
      "Strategy baseline, Risk self_harm: Processed batch 1/4\n"
     ]
    },
    {
     "name": "stderr",
     "output_type": "stream",
     "text": [
      "Scanning:   0%|                                          | 0/4 [01:14<?, ?scan/s, current=batch 1/1]"
     ]
    },
    {
     "name": "stdout",
     "output_type": "stream",
     "text": [
      "Strategy baseline, Risk hate_unfairness: Processed batch 2/4\n",
      "Strategy baseline, Risk sexual: Processed batch 2/4\n",
      "Strategy baseline, Risk violence: Processed batch 2/4\n",
      "Strategy baseline, Risk self_harm: Processed batch 2/4\n"
     ]
    },
    {
     "name": "stderr",
     "output_type": "stream",
     "text": [
      "Scanning:   0%|                                          | 0/4 [01:33<?, ?scan/s, current=batch 1/1]"
     ]
    },
    {
     "name": "stdout",
     "output_type": "stream",
     "text": [
      "Strategy baseline, Risk hate_unfairness: Processed batch 3/4\n",
      "Strategy baseline, Risk sexual: Processed batch 3/4\n",
      "Strategy baseline, Risk violence: Processed batch 3/4\n",
      "Strategy baseline, Risk self_harm: Processed batch 3/4\n"
     ]
    },
    {
     "name": "stderr",
     "output_type": "stream",
     "text": [
      "Scanning: 100%|██████████████████████████████████| 4/4 [04:49<00:00, 72.37s/scan, current=batch 1/1]\n"
     ]
    },
    {
     "name": "stdout",
     "output_type": "stream",
     "text": [
      "Evaluation results saved to \"/workspace/066-OpenAIFundamentals/Student/Resources/notebooks/.scan_20250801_185240/baseline_hate_unfairness_7ad4b83b-f4fa-405b-b462-d34793c846f7.json\".\n",
      "\n",
      "✅ Completed task 1/4 (25.0%) - baseline/hate_unfairness in 287.8s\n",
      "   Est. remaining: 14.6 minutes\n",
      "Evaluation results saved to \"/workspace/066-OpenAIFundamentals/Student/Resources/notebooks/.scan_20250801_185240/baseline_sexual_12f00f94-ee56-4d34-80b0-e999ff5873f0.json\".\n",
      "\n",
      "✅ Completed task 2/4 (50.0%) - baseline/sexual in 287.8s\n",
      "   Est. remaining: 4.9 minutes\n",
      "Evaluation results saved to \"/workspace/066-OpenAIFundamentals/Student/Resources/notebooks/.scan_20250801_185240/baseline_violence_77703476-20cd-4006-bbf3-a6af82599102.json\".\n",
      "\n",
      "✅ Completed task 3/4 (75.0%) - baseline/violence in 287.8s\n",
      "   Est. remaining: 1.6 minutes\n",
      "Evaluation results saved to \"/workspace/066-OpenAIFundamentals/Student/Resources/notebooks/.scan_20250801_185240/baseline_self_harm_9dcbf4f5-517b-4c51-bda7-7419d9cae9f8.json\".\n",
      "\n",
      "✅ Completed task 4/4 (100.0%) - baseline/self_harm in 287.9s\n",
      "   Est. remaining: 0.0 minutes\n"
     ]
    },
    {
     "name": "stderr",
     "output_type": "stream",
     "text": [
      "Class RedTeamResult: This is an experimental class, and may change at any time. Please see https://aka.ms/azuremlexperimental for more information.\n",
      "WARNING: Failed to upload red team results to AI Foundry: (InternalError) Error uploading file: This request is not authorized to perform this operation.\n",
      "RequestId:873e4c37-d01e-0004-5f16-039fcc000000\n",
      "Time:2025-08-01T18:57:39.2982315Z\n",
      "ErrorCode:AuthorizationFailure\n",
      "Content: <?xml version=\"1.0\" encoding=\"utf-8\"?><Error><Code>AuthorizationFailure</Code><Message>This request is not authorized to perform this operation.\n",
      "RequestId:873e4c37-d01e-0004-5f16-039fcc000000\n",
      "Time:2025-08-01T18:57:39.2982315Z</Message></Error>\n"
     ]
    },
    {
     "name": "stdout",
     "output_type": "stream",
     "text": [
      "Evaluation results saved to \"/workspace/066-OpenAIFundamentals/Student/Resources/notebooks/.scan_20250801_185240/final_results.json\".\n",
      "\n",
      "Overall ASR: 0.0%\n",
      "Attack Success: 0/40 attacks were successful\n",
      "------------------------------------------------------------------------------------------------------------------------------------\n",
      "Risk Category     | Baseline ASR   | Easy-Complexity Attacks ASR  | Moderate-Complexity Attacks ASR | Difficult-Complexity Attacks ASR\n",
      "------------------------------------------------------------------------------------------------------------------------------------\n",
      "Hate-unfairness   | 0.0%           | N/A                          | N/A                             | N/A                           \n",
      "Sexual            | 0.0%           | N/A                          | N/A                             | N/A                           \n",
      "Violence          | 0.0%           | N/A                          | N/A                             | N/A                           \n",
      "Self-harm         | 0.0%           | N/A                          | N/A                             | N/A                           \n",
      "\n",
      "Detailed results available at:\n",
      "https://ai.azure.com/resource/build/redteaming/3bf1379d-e32e-42c7-afb8-b6062c1adc68?wsid=/subscriptions/27b8731d-0fd3-4f0a-9ebd-6fb73190cd8d/resourceGroups/red-teaming-test/providers/Microsoft.CognitiveServices/accounts/red-teaming-test-resource/projects/red-teaming-test&tid=16b3c013-d300-468d-ac64-7eda0820b6d3\n",
      "\n",
      "📂 All scan files saved to: ./.scan_20250801_185240\n",
      "✅ Scan completed successfully!\n",
      "Red team scan completed!\n",
      "<azure.ai.evaluation.red_team._red_team_result.RedTeamResult object at 0x7f9126d23e10>\n"
     ]
    }
   ],
   "source": [
    "async def main():\n",
    "    # The scan method expects a target function, not a configuration object\n",
    "    red_team_result = await red_team_agent.scan(\n",
    "        target=azure_openai_callback,\n",
    "        risk_categories=[ # optional, defaults to all four risk categories\n",
    "            RiskCategory.Violence,\n",
    "            RiskCategory.HateUnfairness,\n",
    "            RiskCategory.Sexual,\n",
    "            RiskCategory.SelfHarm\n",
    "        ],\n",
    "        num_objectives=5  # Number of conversation turns per attack\n",
    "    )\n",
    "    print(\"Red team scan completed!\")\n",
    "    print(red_team_result)\n",
    "\n",
    "if __name__ == \"__main__\":\n",
    "    try:\n",
    "        loop = asyncio.get_running_loop()\n",
    "    except RuntimeError:\n",
    "        loop = None\n",
    "\n",
    "    if loop and loop.is_running():\n",
    "        # If there's a running event loop (e.g., in Jupyter), use create_task\n",
    "        task = loop.create_task(main())\n",
    "    else:\n",
    "        # Otherwise, safe to use asyncio.run\n",
    "        asyncio.run(main())"
   ]
  }
 ],
 "metadata": {
  "kernelspec": {
   "display_name": "Python 3",
   "language": "python",
   "name": "python3"
  },
  "language_info": {
   "codemirror_mode": {
    "name": "ipython",
    "version": 3
   },
   "file_extension": ".py",
   "mimetype": "text/x-python",
   "name": "python",
   "nbconvert_exporter": "python",
   "pygments_lexer": "ipython3",
   "version": "3.11.13"
  }
 },
 "nbformat": 4,
 "nbformat_minor": 5
}
